{
 "cells": [
  {
   "cell_type": "code",
   "execution_count": 1,
   "id": "e198c64a",
   "metadata": {},
   "outputs": [],
   "source": [
    "import math, copy\n",
    "import numpy as np\n",
    "import pandas as pd\n",
    "import matplotlib.pyplot as plt\n",
    "#from lab_utils_uni import plt_house_x, plt_contour_wgrad, plt_divergence, plt_gradients"
   ]
  },
  {
   "cell_type": "code",
   "execution_count": 2,
   "id": "a7ccf9be",
   "metadata": {},
   "outputs": [
    {
     "data": {
      "text/html": [
       "<div>\n",
       "<style scoped>\n",
       "    .dataframe tbody tr th:only-of-type {\n",
       "        vertical-align: middle;\n",
       "    }\n",
       "\n",
       "    .dataframe tbody tr th {\n",
       "        vertical-align: top;\n",
       "    }\n",
       "\n",
       "    .dataframe thead th {\n",
       "        text-align: right;\n",
       "    }\n",
       "</style>\n",
       "<table border=\"1\" class=\"dataframe\">\n",
       "  <thead>\n",
       "    <tr style=\"text-align: right;\">\n",
       "      <th></th>\n",
       "      <th>City</th>\n",
       "      <th>DateSold</th>\n",
       "      <th>Type</th>\n",
       "      <th>Price_per_thousand</th>\n",
       "      <th>SQFT</th>\n",
       "      <th>SQFT_per_thousand</th>\n",
       "    </tr>\n",
       "  </thead>\n",
       "  <tbody>\n",
       "    <tr>\n",
       "      <th>0</th>\n",
       "      <td>WPB</td>\n",
       "      <td>9/2/22</td>\n",
       "      <td>Single Family</td>\n",
       "      <td>450</td>\n",
       "      <td>2049</td>\n",
       "      <td>2.049</td>\n",
       "    </tr>\n",
       "    <tr>\n",
       "      <th>1</th>\n",
       "      <td>WPB</td>\n",
       "      <td>9/2/22</td>\n",
       "      <td>Townhome</td>\n",
       "      <td>413</td>\n",
       "      <td>1298</td>\n",
       "      <td>1.298</td>\n",
       "    </tr>\n",
       "    <tr>\n",
       "      <th>2</th>\n",
       "      <td>WPB</td>\n",
       "      <td>9/2/22</td>\n",
       "      <td>Townhome</td>\n",
       "      <td>395</td>\n",
       "      <td>1737</td>\n",
       "      <td>1.737</td>\n",
       "    </tr>\n",
       "    <tr>\n",
       "      <th>3</th>\n",
       "      <td>RB</td>\n",
       "      <td>9/2/22</td>\n",
       "      <td>Townhome</td>\n",
       "      <td>380</td>\n",
       "      <td>1746</td>\n",
       "      <td>1.746</td>\n",
       "    </tr>\n",
       "    <tr>\n",
       "      <th>4</th>\n",
       "      <td>WPB</td>\n",
       "      <td>9/2/22</td>\n",
       "      <td>Single Family</td>\n",
       "      <td>305</td>\n",
       "      <td>1665</td>\n",
       "      <td>1.665</td>\n",
       "    </tr>\n",
       "    <tr>\n",
       "      <th>5</th>\n",
       "      <td>WPB</td>\n",
       "      <td>9/2/22</td>\n",
       "      <td>Townhome</td>\n",
       "      <td>210</td>\n",
       "      <td>1277</td>\n",
       "      <td>1.277</td>\n",
       "    </tr>\n",
       "    <tr>\n",
       "      <th>6</th>\n",
       "      <td>WPB</td>\n",
       "      <td>9/2/22</td>\n",
       "      <td>Apartment</td>\n",
       "      <td>166</td>\n",
       "      <td>798</td>\n",
       "      <td>0.798</td>\n",
       "    </tr>\n",
       "    <tr>\n",
       "      <th>7</th>\n",
       "      <td>LW</td>\n",
       "      <td>9/2/22</td>\n",
       "      <td>Single Family</td>\n",
       "      <td>1400</td>\n",
       "      <td>3334</td>\n",
       "      <td>3.334</td>\n",
       "    </tr>\n",
       "    <tr>\n",
       "      <th>8</th>\n",
       "      <td>G</td>\n",
       "      <td>9/2/22</td>\n",
       "      <td>Apartment</td>\n",
       "      <td>165</td>\n",
       "      <td>818</td>\n",
       "      <td>0.818</td>\n",
       "    </tr>\n",
       "    <tr>\n",
       "      <th>9</th>\n",
       "      <td>LW</td>\n",
       "      <td>9/2/22</td>\n",
       "      <td>Single Family</td>\n",
       "      <td>385</td>\n",
       "      <td>862</td>\n",
       "      <td>0.862</td>\n",
       "    </tr>\n",
       "    <tr>\n",
       "      <th>10</th>\n",
       "      <td>RB</td>\n",
       "      <td>9/2/22</td>\n",
       "      <td>Apartment</td>\n",
       "      <td>485</td>\n",
       "      <td>2256</td>\n",
       "      <td>2.256</td>\n",
       "    </tr>\n",
       "    <tr>\n",
       "      <th>11</th>\n",
       "      <td>RPB</td>\n",
       "      <td>9/2/22</td>\n",
       "      <td>Single Family</td>\n",
       "      <td>629</td>\n",
       "      <td>2618</td>\n",
       "      <td>2.618</td>\n",
       "    </tr>\n",
       "    <tr>\n",
       "      <th>12</th>\n",
       "      <td>RPB</td>\n",
       "      <td>9/2/22</td>\n",
       "      <td>Single Family</td>\n",
       "      <td>394</td>\n",
       "      <td>1199</td>\n",
       "      <td>1.199</td>\n",
       "    </tr>\n",
       "    <tr>\n",
       "      <th>13</th>\n",
       "      <td>WPB</td>\n",
       "      <td>9/2/22</td>\n",
       "      <td>Single Family</td>\n",
       "      <td>455</td>\n",
       "      <td>1945</td>\n",
       "      <td>1.945</td>\n",
       "    </tr>\n",
       "    <tr>\n",
       "      <th>14</th>\n",
       "      <td>PBG</td>\n",
       "      <td>9/2/22</td>\n",
       "      <td>Townhome</td>\n",
       "      <td>500</td>\n",
       "      <td>2183</td>\n",
       "      <td>2.183</td>\n",
       "    </tr>\n",
       "    <tr>\n",
       "      <th>15</th>\n",
       "      <td>W</td>\n",
       "      <td>9/2/22</td>\n",
       "      <td>Single Family</td>\n",
       "      <td>889</td>\n",
       "      <td>2793</td>\n",
       "      <td>2.793</td>\n",
       "    </tr>\n",
       "    <tr>\n",
       "      <th>16</th>\n",
       "      <td>WPB</td>\n",
       "      <td>9/2/22</td>\n",
       "      <td>Townhome</td>\n",
       "      <td>300</td>\n",
       "      <td>1202</td>\n",
       "      <td>1.202</td>\n",
       "    </tr>\n",
       "    <tr>\n",
       "      <th>17</th>\n",
       "      <td>WPB</td>\n",
       "      <td>9/2/22</td>\n",
       "      <td>Apartment</td>\n",
       "      <td>300</td>\n",
       "      <td>756</td>\n",
       "      <td>0.756</td>\n",
       "    </tr>\n",
       "    <tr>\n",
       "      <th>18</th>\n",
       "      <td>WPB</td>\n",
       "      <td>9/1/22</td>\n",
       "      <td>Townhome</td>\n",
       "      <td>268</td>\n",
       "      <td>1022</td>\n",
       "      <td>1.022</td>\n",
       "    </tr>\n",
       "    <tr>\n",
       "      <th>19</th>\n",
       "      <td>WPB</td>\n",
       "      <td>9/1/22</td>\n",
       "      <td>Single Family</td>\n",
       "      <td>399</td>\n",
       "      <td>1488</td>\n",
       "      <td>1.488</td>\n",
       "    </tr>\n",
       "    <tr>\n",
       "      <th>20</th>\n",
       "      <td>WPB</td>\n",
       "      <td>9/1/22</td>\n",
       "      <td>Single Family</td>\n",
       "      <td>385</td>\n",
       "      <td>1092</td>\n",
       "      <td>1.092</td>\n",
       "    </tr>\n",
       "    <tr>\n",
       "      <th>21</th>\n",
       "      <td>G</td>\n",
       "      <td>9/1/22</td>\n",
       "      <td>Apartment</td>\n",
       "      <td>225</td>\n",
       "      <td>1005</td>\n",
       "      <td>1.005</td>\n",
       "    </tr>\n",
       "    <tr>\n",
       "      <th>22</th>\n",
       "      <td>G</td>\n",
       "      <td>9/1/22</td>\n",
       "      <td>Townhome</td>\n",
       "      <td>281</td>\n",
       "      <td>1100</td>\n",
       "      <td>1.100</td>\n",
       "    </tr>\n",
       "    <tr>\n",
       "      <th>23</th>\n",
       "      <td>G</td>\n",
       "      <td>9/1/22</td>\n",
       "      <td>Single Family</td>\n",
       "      <td>241</td>\n",
       "      <td>768</td>\n",
       "      <td>0.768</td>\n",
       "    </tr>\n",
       "    <tr>\n",
       "      <th>24</th>\n",
       "      <td>LW</td>\n",
       "      <td>9/1/22</td>\n",
       "      <td>Single Family</td>\n",
       "      <td>420</td>\n",
       "      <td>1143</td>\n",
       "      <td>1.143</td>\n",
       "    </tr>\n",
       "    <tr>\n",
       "      <th>25</th>\n",
       "      <td>PBG</td>\n",
       "      <td>9/1/22</td>\n",
       "      <td>Single Family</td>\n",
       "      <td>1400</td>\n",
       "      <td>3853</td>\n",
       "      <td>3.853</td>\n",
       "    </tr>\n",
       "    <tr>\n",
       "      <th>26</th>\n",
       "      <td>RB</td>\n",
       "      <td>9/1/22</td>\n",
       "      <td>Apartment</td>\n",
       "      <td>1000</td>\n",
       "      <td>1604</td>\n",
       "      <td>1.604</td>\n",
       "    </tr>\n",
       "    <tr>\n",
       "      <th>27</th>\n",
       "      <td>PBG</td>\n",
       "      <td>9/1/22</td>\n",
       "      <td>Apartment</td>\n",
       "      <td>92</td>\n",
       "      <td>757</td>\n",
       "      <td>0.757</td>\n",
       "    </tr>\n",
       "    <tr>\n",
       "      <th>28</th>\n",
       "      <td>RPB</td>\n",
       "      <td>9/1/22</td>\n",
       "      <td>Townhome</td>\n",
       "      <td>650</td>\n",
       "      <td>2970</td>\n",
       "      <td>2.970</td>\n",
       "    </tr>\n",
       "    <tr>\n",
       "      <th>29</th>\n",
       "      <td>W</td>\n",
       "      <td>9/1/22</td>\n",
       "      <td>Apartment</td>\n",
       "      <td>251</td>\n",
       "      <td>1280</td>\n",
       "      <td>1.280</td>\n",
       "    </tr>\n",
       "    <tr>\n",
       "      <th>30</th>\n",
       "      <td>WPB</td>\n",
       "      <td>9/1/22</td>\n",
       "      <td>Single Family</td>\n",
       "      <td>605</td>\n",
       "      <td>2146</td>\n",
       "      <td>2.146</td>\n",
       "    </tr>\n",
       "    <tr>\n",
       "      <th>31</th>\n",
       "      <td>WPB</td>\n",
       "      <td>9/1/22</td>\n",
       "      <td>Apartment</td>\n",
       "      <td>590</td>\n",
       "      <td>2250</td>\n",
       "      <td>2.250</td>\n",
       "    </tr>\n",
       "    <tr>\n",
       "      <th>32</th>\n",
       "      <td>WPB</td>\n",
       "      <td>9/1/22</td>\n",
       "      <td>Single Family</td>\n",
       "      <td>1750</td>\n",
       "      <td>2141</td>\n",
       "      <td>2.141</td>\n",
       "    </tr>\n",
       "    <tr>\n",
       "      <th>33</th>\n",
       "      <td>WPB</td>\n",
       "      <td>9/1/22</td>\n",
       "      <td>Single Family</td>\n",
       "      <td>825</td>\n",
       "      <td>2621</td>\n",
       "      <td>2.621</td>\n",
       "    </tr>\n",
       "    <tr>\n",
       "      <th>34</th>\n",
       "      <td>PB</td>\n",
       "      <td>9/1/22</td>\n",
       "      <td>Single Family</td>\n",
       "      <td>1880</td>\n",
       "      <td>566</td>\n",
       "      <td>0.566</td>\n",
       "    </tr>\n",
       "    <tr>\n",
       "      <th>35</th>\n",
       "      <td>WPB</td>\n",
       "      <td>9/1/22</td>\n",
       "      <td>Single Family</td>\n",
       "      <td>1920</td>\n",
       "      <td>2870</td>\n",
       "      <td>2.870</td>\n",
       "    </tr>\n",
       "    <tr>\n",
       "      <th>36</th>\n",
       "      <td>LP</td>\n",
       "      <td>9/1/22</td>\n",
       "      <td>Single Family</td>\n",
       "      <td>230</td>\n",
       "      <td>760</td>\n",
       "      <td>0.760</td>\n",
       "    </tr>\n",
       "    <tr>\n",
       "      <th>37</th>\n",
       "      <td>WPB</td>\n",
       "      <td>9/1/22</td>\n",
       "      <td>Apartment</td>\n",
       "      <td>208</td>\n",
       "      <td>920</td>\n",
       "      <td>0.920</td>\n",
       "    </tr>\n",
       "    <tr>\n",
       "      <th>38</th>\n",
       "      <td>WPB</td>\n",
       "      <td>8/31/22</td>\n",
       "      <td>Single Family</td>\n",
       "      <td>2500</td>\n",
       "      <td>3975</td>\n",
       "      <td>3.975</td>\n",
       "    </tr>\n",
       "    <tr>\n",
       "      <th>39</th>\n",
       "      <td>WPB</td>\n",
       "      <td>8/31/22</td>\n",
       "      <td>Single Family</td>\n",
       "      <td>4200</td>\n",
       "      <td>4578</td>\n",
       "      <td>4.578</td>\n",
       "    </tr>\n",
       "  </tbody>\n",
       "</table>\n",
       "</div>"
      ],
      "text/plain": [
       "   City DateSold           Type  Price_per_thousand  SQFT  SQFT_per_thousand\n",
       "0   WPB   9/2/22  Single Family                 450  2049              2.049\n",
       "1   WPB   9/2/22       Townhome                 413  1298              1.298\n",
       "2   WPB   9/2/22       Townhome                 395  1737              1.737\n",
       "3    RB   9/2/22       Townhome                 380  1746              1.746\n",
       "4   WPB   9/2/22  Single Family                 305  1665              1.665\n",
       "5   WPB   9/2/22       Townhome                 210  1277              1.277\n",
       "6   WPB   9/2/22      Apartment                 166   798              0.798\n",
       "7    LW   9/2/22  Single Family                1400  3334              3.334\n",
       "8     G   9/2/22      Apartment                 165   818              0.818\n",
       "9    LW   9/2/22  Single Family                 385   862              0.862\n",
       "10   RB   9/2/22      Apartment                 485  2256              2.256\n",
       "11  RPB   9/2/22  Single Family                 629  2618              2.618\n",
       "12  RPB   9/2/22  Single Family                 394  1199              1.199\n",
       "13  WPB   9/2/22  Single Family                 455  1945              1.945\n",
       "14  PBG   9/2/22       Townhome                 500  2183              2.183\n",
       "15    W   9/2/22  Single Family                 889  2793              2.793\n",
       "16  WPB   9/2/22       Townhome                 300  1202              1.202\n",
       "17  WPB   9/2/22      Apartment                 300   756              0.756\n",
       "18  WPB   9/1/22       Townhome                 268  1022              1.022\n",
       "19  WPB   9/1/22  Single Family                 399  1488              1.488\n",
       "20  WPB   9/1/22  Single Family                 385  1092              1.092\n",
       "21    G   9/1/22      Apartment                 225  1005              1.005\n",
       "22    G   9/1/22       Townhome                 281  1100              1.100\n",
       "23    G   9/1/22  Single Family                 241   768              0.768\n",
       "24   LW   9/1/22  Single Family                 420  1143              1.143\n",
       "25  PBG   9/1/22  Single Family                1400  3853              3.853\n",
       "26   RB   9/1/22      Apartment                1000  1604              1.604\n",
       "27  PBG   9/1/22      Apartment                  92   757              0.757\n",
       "28  RPB   9/1/22       Townhome                 650  2970              2.970\n",
       "29    W   9/1/22      Apartment                 251  1280              1.280\n",
       "30  WPB   9/1/22  Single Family                 605  2146              2.146\n",
       "31  WPB   9/1/22      Apartment                 590  2250              2.250\n",
       "32  WPB   9/1/22  Single Family                1750  2141              2.141\n",
       "33  WPB   9/1/22  Single Family                 825  2621              2.621\n",
       "34   PB   9/1/22  Single Family                1880   566              0.566\n",
       "35  WPB   9/1/22  Single Family                1920  2870              2.870\n",
       "36   LP   9/1/22  Single Family                 230   760              0.760\n",
       "37  WPB   9/1/22      Apartment                 208   920              0.920\n",
       "38  WPB  8/31/22  Single Family                2500  3975              3.975\n",
       "39  WPB  8/31/22  Single Family                4200  4578              4.578"
      ]
     },
     "execution_count": 2,
     "metadata": {},
     "output_type": "execute_result"
    }
   ],
   "source": [
    "df = pd.read_csv(\"https://raw.githubusercontent.com/Josiel1998/machine-learning/main/Datasets/RealEstate/WPB_Sold_Homes_2022.csv\")\n",
    "df.head(40)"
   ]
  },
  {
   "cell_type": "code",
   "execution_count": 3,
   "id": "7ee2aa5f",
   "metadata": {},
   "outputs": [
    {
     "data": {
      "text/plain": [
       "(40, 6)"
      ]
     },
     "execution_count": 3,
     "metadata": {},
     "output_type": "execute_result"
    }
   ],
   "source": [
    "df.shape"
   ]
  },
  {
   "cell_type": "code",
   "execution_count": 4,
   "id": "464e4ff6",
   "metadata": {},
   "outputs": [],
   "source": [
    "x_train = df.SQFT_per_thousand # features\n",
    "y_train = df.Price_per_thousand # target value"
   ]
  },
  {
   "cell_type": "code",
   "execution_count": 5,
   "id": "1896a7c2",
   "metadata": {},
   "outputs": [
    {
     "data": {
      "image/png": "[encoded data removed]",
      "text/plain": [
       "<Figure size 432x288 with 1 Axes>"
      ]
     },
     "metadata": {
      "needs_background": "light"
     },
     "output_type": "display_data"
    }
   ],
   "source": [
    "# Plot the data points\n",
    "plt.scatter(x_train, y_train, marker='x', c='r')\n",
    "# Set the title\n",
    "plt.title(\"Housing Prices\")\n",
    "# Set the y-axis label\n",
    "plt.ylabel('Price (in 1000s of dollars)')\n",
    "# Set the x-axis label\n",
    "plt.xlabel('Size (1000 sqft)')\n",
    "plt.show()"
   ]
  },
  {
   "cell_type": "markdown",
   "id": "0d16e222",
   "metadata": {},
   "source": [
    "## Model function\n",
    "$$ f_{w,b}(x^{(i)}) = wx^{(i)} + b \\tag{1}$$"
   ]
  },
  {
   "cell_type": "code",
   "execution_count": 6,
   "id": "2ac5e7c4",
   "metadata": {},
   "outputs": [
    {
     "data": {
      "image/png": "[encoded data removed]",
      "text/plain": [
       "<Figure size 432x288 with 1 Axes>"
      ]
     },
     "metadata": {
      "needs_background": "light"
     },
     "output_type": "display_data"
    }
   ],
   "source": [
    "# model parameters\n",
    "#w = 0.003\n",
    "w = 250\n",
    "b = 0\n",
    "\n",
    "def compute_model_output(x, w, b):\n",
    "    \"\"\"\n",
    "    Computes the prediction of a linear model\n",
    "    Args:\n",
    "      x (ndarray (m,)): Data, m examples \n",
    "      w,b (scalar)    : model parameters  \n",
    "    Returns\n",
    "      y (ndarray (m,)): target values\n",
    "    \"\"\"\n",
    "    m = x.shape[0]\n",
    "    f_wb = np.zeros(m)\n",
    "    for i in range(m):\n",
    "        f_wb[i] = w * x[i] + b\n",
    "        \n",
    "    return f_wb\n",
    "\n",
    "tmp_f_wb = compute_model_output(x_train, w, b,)\n",
    "\n",
    "# Plot our model prediction\n",
    "plt.plot(x_train, tmp_f_wb, c='b',label='Our Prediction')\n",
    "\n",
    "# Plot the data points\n",
    "plt.scatter(x_train, y_train, marker='x', c='r',label='Actual Values')\n",
    "\n",
    "# Set the title\n",
    "plt.title(\"Housing Prices\")\n",
    "# Set the y-axis label\n",
    "plt.ylabel('Price (in 1000s of dollars)')\n",
    "# Set the x-axis label\n",
    "plt.xlabel('Size (1000 sqft)')\n",
    "plt.legend()\n",
    "plt.show()"
   ]
  },
  {
   "cell_type": "markdown",
   "id": "a89f67ee",
   "metadata": {},
   "source": [
    "# Cost Function\n",
    "The equation for cost with one variable is:\n",
    "  $$J(w,b) = \\frac{1}{2m} \\sum\\limits_{i = 0}^{m-1} (f_{w,b}(x^{(i)}) - y^{(i)})^2 \\tag{1}$$ \n",
    " \n",
    "where \n",
    "  $$f_{w,b}(x^{(i)}) = wx^{(i)} + b \\tag{2}$$\n",
    "  \n",
    "The code below calculates cost by looping over each example. In each loop:\n",
    "- `f_wb`, a prediction is calculated\n",
    "- the difference between the target and the prediction is calculated and squared.\n",
    "- this is added to the total cost."
   ]
  },
  {
   "cell_type": "code",
   "execution_count": 7,
   "id": "9fa4bff9",
   "metadata": {},
   "outputs": [],
   "source": [
    "def compute_cost(x, y, w, b): \n",
    "    \"\"\"\n",
    "    Computes the cost function for linear regression.\n",
    "    \n",
    "    Args:\n",
    "      x (ndarray (m,)): Data, m examples \n",
    "      y (ndarray (m,)): target values\n",
    "      w,b (scalar)    : model parameters  \n",
    "    \n",
    "    Returns\n",
    "        total_cost (float): The cost of using w,b as the parameters for linear regression\n",
    "               to fit the data points in x and y\n",
    "    \"\"\"\n",
    "    # number of training examples\n",
    "    m = x.shape[0] \n",
    "    \n",
    "    cost_sum = 0 \n",
    "    for i in range(m): \n",
    "        f_wb = w * x[i] + b   \n",
    "        cost = (f_wb - y[i]) ** 2  \n",
    "        cost_sum = cost_sum + cost  \n",
    "    total_cost = (1 / (2 * m)) * cost_sum  \n",
    "\n",
    "    return total_cost"
   ]
  },
  {
   "cell_type": "code",
   "execution_count": 8,
   "id": "622babc8",
   "metadata": {},
   "outputs": [
    {
     "name": "stdout",
     "output_type": "stream",
     "text": [
      "233159.57109375\n"
     ]
    }
   ],
   "source": [
    "print(compute_cost(x_train, y_train, w, b))"
   ]
  },
  {
   "cell_type": "markdown",
   "id": "dfe2e862",
   "metadata": {},
   "source": [
    "<a name=\"toc_40291_2.1\"></a>\n",
    "## Gradient descent summary\n",
    "So far in this course, you have developed a linear model that predicts $f_{w,b}(x^{(i)})$:\n",
    "$$f_{w,b}(x^{(i)}) = wx^{(i)} + b \\tag{1}$$\n",
    "In linear regression, you utilize input training data to fit the parameters $w$,$b$ by minimizing a measure of the error between our predictions $f_{w,b}(x^{(i)})$ and the actual data $y^{(i)}$. The measure is called the $cost$, $J(w,b)$. In training you measure the cost over all of our training samples $x^{(i)},y^{(i)}$\n",
    "$$J(w,b) = \\frac{1}{2m} \\sum\\limits_{i = 0}^{m-1} (f_{w,b}(x^{(i)}) - y^{(i)})^2\\tag{2}$$ \n",
    "\n",
    "\n",
    "In lecture, *gradient descent* was described as:\n",
    "\n",
    "$$\\begin{align*} \\text{repeat}&\\text{ until convergence:} \\; \\lbrace \\newline\n",
    "\\;  w &= w -  \\alpha \\frac{\\partial J(w,b)}{\\partial w} \\tag{3}  \\; \\newline \n",
    " b &= b -  \\alpha \\frac{\\partial J(w,b)}{\\partial b}  \\newline \\rbrace\n",
    "\\end{align*}$$\n",
    "where, parameters $w$, $b$ are updated simultaneously.  \n",
    "The gradient is defined as:\n",
    "$$\n",
    "\\begin{align}\n",
    "\\frac{\\partial J(w,b)}{\\partial w}  &= \\frac{1}{m} \\sum\\limits_{i = 0}^{m-1} (f_{w,b}(x^{(i)}) - y^{(i)})x^{(i)} \\tag{4}\\\\\n",
    "  \\frac{\\partial J(w,b)}{\\partial b}  &= \\frac{1}{m} \\sum\\limits_{i = 0}^{m-1} (f_{w,b}(x^{(i)}) - y^{(i)}) \\tag{5}\\\\\n",
    "\\end{align}\n",
    "$$\n",
    "\n",
    "Here *simultaniously* means that you calculate the partial derivatives for all the parameters before updating any of the parameters."
   ]
  },
  {
   "cell_type": "code",
   "execution_count": 9,
   "id": "9e1a4774",
   "metadata": {},
   "outputs": [],
   "source": [
    "# function provides the gradient i.e. the direction where the parameters should update towards based on the tangent\n",
    "# line within the parabola. This uses the difference between the model predicted point and the actual value and its\n",
    "# difference\n",
    "def compute_gradient(x, y, w, b): \n",
    "    \"\"\"\n",
    "    Computes the gradient for linear regression \n",
    "    Args:\n",
    "      x (ndarray (m,)): Data, m examples \n",
    "      y (ndarray (m,)): target values\n",
    "      w,b (scalar)    : model parameters  \n",
    "    Returns\n",
    "      dj_dw (scalar): The gradient of the cost w.r.t. the parameters w\n",
    "      dj_db (scalar): The gradient of the cost w.r.t. the parameter b     \n",
    "     \"\"\"\n",
    "    \n",
    "    # Number of training examples\n",
    "    m = x.shape[0]    \n",
    "    dj_dw = 0\n",
    "    dj_db = 0\n",
    "    \n",
    "    for i in range(m):  \n",
    "        # f_wb is the \"model\" based on the input \"x\" and the \"w\" and \"b\" parameters (1)\n",
    "        f_wb = w * x[i] + b \n",
    "        # get cost of the model for each record w.r.t. weights (4) this is J (w)\n",
    "        dj_dw_i = (f_wb - y[i]) * x[i] \n",
    "        # get cost of the model for each record w.r.t bias (5) this is J(b)\n",
    "        dj_db_i = f_wb - y[i] \n",
    "        # get total cost for weights (2)\n",
    "        dj_db += dj_db_i\n",
    "        # get total cost for bias (2)\n",
    "        dj_dw += dj_dw_i\n",
    "        \n",
    "    # the gradient of the cost w.r.t the parameters w\n",
    "    dj_dw = dj_dw / m \n",
    "    # the gradient of the cost w.r.t the parameters b\n",
    "    dj_db = dj_db / m \n",
    "        \n",
    "    return dj_dw, dj_db"
   ]
  },
  {
   "cell_type": "markdown",
   "id": "9b7acaf2",
   "metadata": {},
   "source": [
    "###  Gradient Descent\n",
    "Now that gradients can be computed,  gradient descent, described in equation (3) above can be implemented below in `gradient_descent`. The details of the implementation are described in the comments. Below, you will utilize this function to find optimal values of $w$ and $b$ on the training data."
   ]
  },
  {
   "cell_type": "code",
   "execution_count": 10,
   "id": "e899f6ca",
   "metadata": {},
   "outputs": [],
   "source": [
    "def gradient_descent(x, y, w_in, b_in, alpha, num_iters, cost_function, gradient_function): \n",
    "    \"\"\"\n",
    "    Performs gradient descent to fit w,b. Updates w,b by taking \n",
    "    num_iters gradient steps with learning rate alpha\n",
    "    \n",
    "    Args:\n",
    "      x (ndarray (m,))  : Data, m examples \n",
    "      y (ndarray (m,))  : target values\n",
    "      w_in,b_in (scalar): initial values of model parameters  \n",
    "      alpha (float):     Learning rate\n",
    "      num_iters (int):   number of iterations to run gradient descent\n",
    "      cost_function:     function to call to produce cost\n",
    "      gradient_function: function to call to produce gradient\n",
    "      \n",
    "    Returns:\n",
    "      w (scalar): Updated value of parameter after running gradient descent\n",
    "      b (scalar): Updated value of parameter after running gradient descent\n",
    "      J_history (List): History of cost values\n",
    "      p_history (list): History of parameters [w,b] \n",
    "      \"\"\"\n",
    "    \n",
    "    w = copy.deepcopy(w_in) # avoid modifying global w_in\n",
    "    # An array to store cost J and w's at each iteration primarily for graphing later\n",
    "    J_history = []\n",
    "    p_history = []\n",
    "    w_history = []\n",
    "    b_history = []\n",
    "    b = b_in\n",
    "    w = w_in\n",
    "    \n",
    "    for i in range(num_iters):\n",
    "        # Calculate the gradient and update the parameters using gradient_function\n",
    "        dj_dw, dj_db = gradient_function(x, y, w , b)     \n",
    "\n",
    "        # Update Parameters using equation (3) above\n",
    "        b = b - alpha * dj_db                            \n",
    "        w = w - alpha * dj_dw\n",
    "        \n",
    "        w_history.append(w)\n",
    "        b_history.append(b)\n",
    "\n",
    "        # Save cost J at each iteration\n",
    "        if i<100000:      # prevent resource exhaustion \n",
    "            J_history.append( cost_function(x, y, w , b))\n",
    "            p_history.append([w,b])\n",
    "        # Print cost every at intervals 10 times or as many iterations if < 10\n",
    "        if i% math.ceil(num_iters/10) == 0:\n",
    "            print(f\"Iteration {i:4}: Cost {J_history[-1]:0.2e} \",\n",
    "                  f\"dj_dw: {dj_dw: 0.3e}, dj_db: {dj_db: 0.3e}  \",\n",
    "                  f\"w: {w: 0.3e}, b:{b: 0.5e}\")\n",
    " \n",
    "    return w, b, J_history, p_history, w_history, b_history #return w and J,w history for graphing"
   ]
  },
  {
   "cell_type": "code",
   "execution_count": 11,
   "id": "2b4d7729",
   "metadata": {},
   "outputs": [
    {
     "name": "stdout",
     "output_type": "stream",
     "text": [
      "Iteration    0: Cost 5.25e+05  dj_dw: -1.839e+03, dj_db: -7.135e+02   w:  1.839e+01, b: 7.13525e+00\n",
      "Iteration 1000: Cost 1.44e+05  dj_dw: -6.225e+00, dj_db:  1.380e+01   w:  5.540e+02, b:-2.62301e+02\n",
      "Iteration 2000: Cost 1.43e+05  dj_dw: -8.908e-01, dj_db:  1.975e+00   w:  5.815e+02, b:-3.23062e+02\n",
      "Iteration 3000: Cost 1.43e+05  dj_dw: -1.275e-01, dj_db:  2.825e-01   w:  5.854e+02, b:-3.31756e+02\n",
      "Iteration 4000: Cost 1.43e+05  dj_dw: -1.824e-02, dj_db:  4.042e-02   w:  5.859e+02, b:-3.32999e+02\n",
      "Iteration 5000: Cost 1.43e+05  dj_dw: -2.609e-03, dj_db:  5.784e-03   w:  5.860e+02, b:-3.33177e+02\n",
      "Iteration 6000: Cost 1.43e+05  dj_dw: -3.733e-04, dj_db:  8.276e-04   w:  5.860e+02, b:-3.33203e+02\n",
      "Iteration 7000: Cost 1.43e+05  dj_dw: -5.342e-05, dj_db:  1.184e-04   w:  5.860e+02, b:-3.33207e+02\n",
      "Iteration 8000: Cost 1.43e+05  dj_dw: -7.643e-06, dj_db:  1.694e-05   w:  5.860e+02, b:-3.33207e+02\n",
      "Iteration 9000: Cost 1.43e+05  dj_dw: -1.094e-06, dj_db:  2.424e-06   w:  5.860e+02, b:-3.33207e+02\n",
      "(w,b) found by gradient descent: (586.0352,-333.2072)\n"
     ]
    }
   ],
   "source": [
    "# initialize parameters\n",
    "w_init = 0\n",
    "b_init = 0\n",
    "# some gradient descent settings\n",
    "iterations = 10000\n",
    "tmp_alpha = 1.0e-2\n",
    "# run gradient descent\n",
    "w_final, b_final, J_hist, p_hist, w_hist, b_hist = gradient_descent(x_train ,y_train, w_init, b_init, tmp_alpha, \n",
    "                                                    iterations, compute_cost, compute_gradient)\n",
    "print(f\"(w,b) found by gradient descent: ({w_final:8.4f},{b_final:8.4f})\")"
   ]
  },
  {
   "cell_type": "markdown",
   "id": "66273477",
   "metadata": {},
   "source": [
    "# Best fit model within local minima"
   ]
  },
  {
   "cell_type": "code",
   "execution_count": 12,
   "id": "a30c4a50",
   "metadata": {},
   "outputs": [
    {
     "data": {
      "image/png": "[encoded data removed]",
      "text/plain": [
       "<Figure size 432x288 with 1 Axes>"
      ]
     },
     "metadata": {
      "needs_background": "light"
     },
     "output_type": "display_data"
    }
   ],
   "source": [
    "w = w_final\n",
    "b = b_final\n",
    "\n",
    "tmp_f_wb = compute_model_output(x_train, w, b,)\n",
    "\n",
    "# Plot our model prediction\n",
    "plt.plot(x_train, tmp_f_wb, c='b',label='Our Prediction')\n",
    "\n",
    "# Plot the data points\n",
    "plt.scatter(x_train, y_train, marker='x', c='r',label='Actual Values')\n",
    "\n",
    "# Set the title\n",
    "plt.title(\"Housing Prices\")\n",
    "# Set the y-axis label\n",
    "plt.ylabel('Price (in 1000s of dollars)')\n",
    "# Set the x-axis label\n",
    "plt.xlabel('Size (1000 sqft)')\n",
    "plt.legend()\n",
    "plt.show()"
   ]
  },
  {
   "cell_type": "code",
   "execution_count": 13,
   "id": "58d2f204",
   "metadata": {},
   "outputs": [
    {
     "data": {
      "image/png": "[encoded data removed]",
      "text/plain": [
       "<Figure size 864x288 with 2 Axes>"
      ]
     },
     "metadata": {
      "needs_background": "light"
     },
     "output_type": "display_data"
    }
   ],
   "source": [
    "# plot cost versus iteration  \n",
    "fig, (ax1, ax2) = plt.subplots(1, 2, constrained_layout=True, figsize=(12,4))\n",
    "ax1.plot(J_hist[:100])\n",
    "ax2.plot(1000 + np.arange(len(J_hist[1000:])), J_hist[1000:])\n",
    "ax1.set_title(\"Cost vs. iteration(start)\");  ax2.set_title(\"Cost vs. iteration (end)\")\n",
    "ax1.set_ylabel('Cost')            ;  ax2.set_ylabel('Cost') \n",
    "ax1.set_xlabel('iteration step')  ;  ax2.set_xlabel('iteration step') \n",
    "plt.show()"
   ]
  },
  {
   "cell_type": "code",
   "execution_count": 14,
   "id": "851ee32f",
   "metadata": {},
   "outputs": [
    {
     "name": "stdout",
     "output_type": "stream",
     "text": [
      "1000 sqft house prediction 252.8 Thousand dollars\n",
      "1200 sqft house prediction 370.0 Thousand dollars\n",
      "2000 sqft house prediction 838.9 Thousand dollars\n"
     ]
    }
   ],
   "source": [
    "# predictions\n",
    "print(f\"1000 sqft house prediction {w_final*1.0 + b_final:0.1f} Thousand dollars\")\n",
    "print(f\"1200 sqft house prediction {w_final*1.2 + b_final:0.1f} Thousand dollars\")\n",
    "print(f\"2000 sqft house prediction {w_final*2.0 + b_final:0.1f} Thousand dollars\")"
   ]
  },
  {
   "cell_type": "code",
   "execution_count": 15,
   "id": "a0addff8",
   "metadata": {},
   "outputs": [
    {
     "data": {
      "image/png": "[encoded data removed]",
      "text/plain": [
       "<Figure size 432x288 with 1 Axes>"
      ]
     },
     "metadata": {
      "needs_background": "light"
     },
     "output_type": "display_data"
    }
   ],
   "source": [
    "plt.plot(J_hist, c='b',label='Cost')\n",
    "plt.title(\"Cost vs Iteration\")\n",
    "plt.ylabel('Cost')\n",
    "plt.xlabel('Iterations')\n",
    "plt.show()"
   ]
  },
  {
   "cell_type": "code",
   "execution_count": 16,
   "id": "94f65929",
   "metadata": {},
   "outputs": [
    {
     "data": {
      "image/png": "[encoded data removed]",
      "text/plain": [
       "<Figure size 864x288 with 2 Axes>"
      ]
     },
     "metadata": {
      "needs_background": "light"
     },
     "output_type": "display_data"
    }
   ],
   "source": [
    "# plot cost versus iteration  \n",
    "fig, (ax1, ax2) = plt.subplots(1, 2, constrained_layout=True, figsize=(12,4))\n",
    "ax1.plot(w_hist)\n",
    "ax2.plot(b_hist)\n",
    "ax1.set_title(\"w-parameter vs. iteration(start)\");  ax2.set_title(\"b-parameter vs. iteration (end)\")\n",
    "ax1.set_ylabel('Value')            ;  ax2.set_ylabel('Value') \n",
    "ax1.set_xlabel('iteration step')  ;  ax2.set_xlabel('iteration step') \n",
    "plt.show()"
   ]
  },
  {
   "cell_type": "markdown",
   "id": "edea0388",
   "metadata": {},
   "source": [
    "# Model per house type"
   ]
  },
  {
   "cell_type": "code",
   "execution_count": 17,
   "id": "96ec430a",
   "metadata": {},
   "outputs": [],
   "source": [
    "# single family\n",
    "df_sf_interim = df.loc[df['Type'] == 'Single Family']\n",
    "df_sf = df_sf_interim.reset_index(drop=True)\n",
    "sf_x_train = df_sf.SQFT_per_thousand \n",
    "sf_y_train = df_sf.Price_per_thousand\n",
    "\n",
    "# townhome\n",
    "df_th_interim = df.loc[df['Type'] == 'Townhome']\n",
    "df_th = df_th_interim.reset_index(drop=True)\n",
    "th_x_train = df_th.SQFT_per_thousand \n",
    "th_y_train = df_th.Price_per_thousand\n",
    "\n",
    "# apartment\n",
    "df_apt_interim = df.loc[df['Type'] == 'Apartment']\n",
    "df_apt = df_apt_interim.reset_index(drop=True)\n",
    "apt_x_train = df_apt.SQFT_per_thousand \n",
    "apt_y_train = df_apt.Price_per_thousand"
   ]
  },
  {
   "cell_type": "code",
   "execution_count": 18,
   "id": "b8f5ac8a",
   "metadata": {},
   "outputs": [
    {
     "data": {
      "image/png": "[encoded data removed]",
      "text/plain": [
       "<Figure size 864x288 with 3 Axes>"
      ]
     },
     "metadata": {
      "needs_background": "light"
     },
     "output_type": "display_data"
    }
   ],
   "source": [
    "# plot  \n",
    "fig, (ax1, ax2, ax3) = plt.subplots(1,3, figsize=(12,4))\n",
    "\n",
    "ax1.scatter(sf_x_train, sf_y_train, marker='x', c='r')\n",
    "ax1.set_title(\"Single Family\")\n",
    "ax1.set_ylabel('Price (in 1000s of dollars)')\n",
    "ax1.set_xlabel('Size (1000 sqft)')\n",
    "\n",
    "ax2.scatter(th_x_train, th_y_train, marker='x', c='r')\n",
    "ax2.set_title(\"Townhome\")\n",
    "ax2.set_ylabel('Price (in 1000s of dollars)')\n",
    "ax2.set_xlabel('Size (1000 sqft)')\n",
    "\n",
    "ax3.scatter(apt_x_train, apt_y_train, marker='x', c='r')\n",
    "ax3.set_title(\"Apartments\")\n",
    "ax3.set_ylabel('Price (in 1000s of dollars)')\n",
    "ax3.set_xlabel('Size (1000 sqft)')\n",
    "\n",
    "fig.tight_layout()\n",
    "plt.show()\n",
    "\n"
   ]
  },
  {
   "cell_type": "markdown",
   "id": "3d22a71a",
   "metadata": {},
   "source": [
    "## Single Family"
   ]
  },
  {
   "cell_type": "code",
   "execution_count": 19,
   "id": "234ae22e",
   "metadata": {},
   "outputs": [
    {
     "name": "stdout",
     "output_type": "stream",
     "text": [
      "Iteration    0: Cost 8.99e+05  dj_dw: -2.958e+03, dj_db: -1.032e+03   w:  2.958e+01, b: 1.03152e+01\n",
      "Iteration 1000: Cost 2.26e+05  dj_dw: -4.557e+00, dj_db:  1.197e+01   w:  5.860e+02, b:-1.97299e+02\n",
      "Iteration 2000: Cost 2.26e+05  dj_dw: -6.570e-01, dj_db:  1.725e+00   w:  6.061e+02, b:-2.50119e+02\n",
      "Iteration 3000: Cost 2.26e+05  dj_dw: -9.472e-02, dj_db:  2.487e-01   w:  6.090e+02, b:-2.57734e+02\n",
      "Iteration 4000: Cost 2.26e+05  dj_dw: -1.366e-02, dj_db:  3.585e-02   w:  6.094e+02, b:-2.58832e+02\n",
      "Iteration 5000: Cost 2.26e+05  dj_dw: -1.969e-03, dj_db:  5.169e-03   w:  6.095e+02, b:-2.58990e+02\n",
      "Iteration 6000: Cost 2.26e+05  dj_dw: -2.838e-04, dj_db:  7.451e-04   w:  6.095e+02, b:-2.59013e+02\n",
      "Iteration 7000: Cost 2.26e+05  dj_dw: -4.092e-05, dj_db:  1.074e-04   w:  6.095e+02, b:-2.59016e+02\n",
      "Iteration 8000: Cost 2.26e+05  dj_dw: -5.899e-06, dj_db:  1.549e-05   w:  6.095e+02, b:-2.59017e+02\n",
      "Iteration 9000: Cost 2.26e+05  dj_dw: -8.504e-07, dj_db:  2.233e-06   w:  6.095e+02, b:-2.59017e+02\n",
      "(w,b) found by gradient descent: (609.4848,-259.0168)\n"
     ]
    }
   ],
   "source": [
    "# initialize parameters\n",
    "w_init = 0\n",
    "b_init = 0\n",
    "# some gradient descent settings\n",
    "iterations = 10000\n",
    "tmp_alpha = 1.0e-2\n",
    "# run gradient descent\n",
    "w_final_sf, b_final_sf, J_hist, p_hist, w_hist, b_hist = gradient_descent(sf_x_train ,sf_y_train, w_init, b_init, tmp_alpha, \n",
    "                                                    iterations, compute_cost, compute_gradient)\n",
    "print(f\"(w,b) found by gradient descent: ({w_final_sf:8.4f},{b_final_sf:8.4f})\")"
   ]
  },
  {
   "cell_type": "markdown",
   "id": "971fca1f",
   "metadata": {},
   "source": [
    "## Townhome"
   ]
  },
  {
   "cell_type": "code",
   "execution_count": 20,
   "id": "64c36a3a",
   "metadata": {},
   "outputs": [
    {
     "name": "stdout",
     "output_type": "stream",
     "text": [
      "Iteration    0: Cost 7.34e+04  dj_dw: -6.799e+02, dj_db: -3.774e+02   w:  6.799e+00, b: 3.77444e+00\n",
      "Iteration 1000: Cost 1.16e+03  dj_dw: -8.521e-01, dj_db:  1.515e+00   w:  1.891e+02, b: 7.36400e+01\n",
      "Iteration 2000: Cost 1.15e+03  dj_dw: -3.407e-01, dj_db:  6.057e-01   w:  1.946e+02, b: 6.37260e+01\n",
      "Iteration 3000: Cost 1.14e+03  dj_dw: -1.362e-01, dj_db:  2.422e-01   w:  1.969e+02, b: 5.97624e+01\n",
      "Iteration 4000: Cost 1.14e+03  dj_dw: -5.445e-02, dj_db:  9.681e-02   w:  1.977e+02, b: 5.81777e+01\n",
      "Iteration 5000: Cost 1.14e+03  dj_dw: -2.177e-02, dj_db:  3.871e-02   w:  1.981e+02, b: 5.75442e+01\n",
      "Iteration 6000: Cost 1.14e+03  dj_dw: -8.704e-03, dj_db:  1.547e-02   w:  1.982e+02, b: 5.72909e+01\n",
      "Iteration 7000: Cost 1.14e+03  dj_dw: -3.480e-03, dj_db:  6.187e-03   w:  1.983e+02, b: 5.71897e+01\n",
      "Iteration 8000: Cost 1.14e+03  dj_dw: -1.391e-03, dj_db:  2.473e-03   w:  1.983e+02, b: 5.71492e+01\n",
      "Iteration 9000: Cost 1.14e+03  dj_dw: -5.562e-04, dj_db:  9.889e-04   w:  1.983e+02, b: 5.71330e+01\n",
      "(w,b) found by gradient descent: (198.3395, 57.1265)\n"
     ]
    }
   ],
   "source": [
    "# initialize parameters\n",
    "w_init = 0\n",
    "b_init = 0\n",
    "# some gradient descent settings\n",
    "iterations = 10000\n",
    "tmp_alpha = 1.0e-2\n",
    "# run gradient descent\n",
    "w_final_th, b_final_th, J_hist_th, p_hist_th, w_hist_th, b_hist_th = gradient_descent(th_x_train ,th_y_train, w_init, b_init, tmp_alpha, iterations, compute_cost, compute_gradient)\n",
    "print(f\"(w,b) found by gradient descent: ({w_final_th:8.4f},{b_final_th:8.4f})\")"
   ]
  },
  {
   "cell_type": "markdown",
   "id": "0925ba0a",
   "metadata": {},
   "source": [
    "## Apartment"
   ]
  },
  {
   "cell_type": "code",
   "execution_count": 21,
   "id": "ea35c0f4",
   "metadata": {},
   "outputs": [
    {
     "name": "stdout",
     "output_type": "stream",
     "text": [
      "Iteration    0: Cost 9.07e+04  dj_dw: -5.328e+02, dj_db: -3.482e+02   w:  5.328e+00, b: 3.48200e+00\n",
      "Iteration 1000: Cost 1.88e+04  dj_dw: -4.510e+00, dj_db:  6.347e+00   w:  2.736e+02, b: 1.40761e+01\n",
      "Iteration 2000: Cost 1.85e+04  dj_dw: -1.416e+00, dj_db:  1.993e+00   w:  3.003e+02, b:-2.34904e+01\n",
      "Iteration 3000: Cost 1.85e+04  dj_dw: -4.447e-01, dj_db:  6.259e-01   w:  3.087e+02, b:-3.52872e+01\n",
      "Iteration 4000: Cost 1.85e+04  dj_dw: -1.397e-01, dj_db:  1.965e-01   w:  3.113e+02, b:-3.89918e+01\n",
      "Iteration 5000: Cost 1.85e+04  dj_dw: -4.386e-02, dj_db:  6.172e-02   w:  3.121e+02, b:-4.01551e+01\n",
      "Iteration 6000: Cost 1.85e+04  dj_dw: -1.377e-02, dj_db:  1.938e-02   w:  3.124e+02, b:-4.05204e+01\n",
      "Iteration 7000: Cost 1.85e+04  dj_dw: -4.325e-03, dj_db:  6.086e-03   w:  3.125e+02, b:-4.06351e+01\n",
      "Iteration 8000: Cost 1.85e+04  dj_dw: -1.358e-03, dj_db:  1.911e-03   w:  3.125e+02, b:-4.06711e+01\n",
      "Iteration 9000: Cost 1.85e+04  dj_dw: -4.265e-04, dj_db:  6.002e-04   w:  3.125e+02, b:-4.06825e+01\n",
      "(w,b) found by gradient descent: (312.5090,-40.6860)\n"
     ]
    }
   ],
   "source": [
    "# initialize parameters\n",
    "w_init = 0\n",
    "b_init = 0\n",
    "# some gradient descent settings\n",
    "iterations = 10000\n",
    "tmp_alpha = 1.0e-2\n",
    "# run gradient descent\n",
    "w_final_apt, b_final_apt, J_hist_apt, p_hist_apt, w_hist_apt, b_hist_apt = gradient_descent(apt_x_train ,apt_y_train, w_init, b_init, tmp_alpha, \n",
    "                                                    iterations, compute_cost, compute_gradient)\n",
    "print(f\"(w,b) found by gradient descent: ({w_final_apt:8.4f},{b_final_apt:8.4f})\")"
   ]
  },
  {
   "cell_type": "code",
   "execution_count": 22,
   "id": "a934281d",
   "metadata": {},
   "outputs": [
    {
     "data": {
      "image/png": "[encoded data removed]",
      "text/plain": [
       "<Figure size 864x288 with 3 Axes>"
      ]
     },
     "metadata": {
      "needs_background": "light"
     },
     "output_type": "display_data"
    }
   ],
   "source": [
    "# plot  \n",
    "fig, (ax1, ax2, ax3) = plt.subplots(1,3, figsize=(12,4))\n",
    "\n",
    "\n",
    "# Plot our model prediction\n",
    "tmp_f_wb = compute_model_output(sf_x_train, w_final_sf, b_final_sf,)\n",
    "ax1.plot(sf_x_train, tmp_f_wb, c='b',label='Our Prediction')\n",
    "\n",
    "# Plot values\n",
    "ax1.scatter(sf_x_train, sf_y_train, marker='x', c='r', label=\"Actual Values\")\n",
    "ax1.set_title(\"Single Family\")\n",
    "ax1.set_ylabel('Price (in 1000s of dollars)')\n",
    "ax1.set_xlabel('Size (1000 sqft)')\n",
    "\n",
    "\n",
    "\n",
    "# Plot our model prediction\n",
    "tmp_f_wb = compute_model_output(th_x_train, w_final_th, b_final_th,)\n",
    "ax2.plot(th_x_train, tmp_f_wb, c='b',label='Our Prediction')\n",
    "\n",
    "# Plot values\n",
    "ax2.scatter(th_x_train, th_y_train, marker='x', c='r', label=\"Actual Values\")\n",
    "ax2.set_title(\"Townhome\")\n",
    "ax2.set_ylabel('Price (in 1000s of dollars)')\n",
    "ax2.set_xlabel('Size (1000 sqft)')\n",
    "\n",
    "\n",
    "\n",
    "# Plot our model prediction\n",
    "tmp_f_wb = compute_model_output(apt_x_train, w_final_apt, b_final_apt,)\n",
    "ax3.plot(apt_x_train, tmp_f_wb, c='b',label='Our Prediction')\n",
    "\n",
    "# Plot values\n",
    "ax3.scatter(apt_x_train, apt_y_train, marker='x', c='r', label=\"Actual Values\")\n",
    "ax3.set_title(\"Apartments\")\n",
    "ax3.set_ylabel('Price (in 1000s of dollars)')\n",
    "ax3.set_xlabel('Size (1000 sqft)')\n",
    "\n",
    "fig.tight_layout()\n",
    "plt.show()"
   ]
  },
  {
   "cell_type": "markdown",
   "id": "f352113c",
   "metadata": {},
   "source": [
    "A couple of assumptions can be made between the three models. \n",
    "- Per cost function, the townhome model has the best fit and relationship between price and size based on training data\n",
    "- The overall model factoring all datapoints performs better than the individual single familt and apartment models. \n",
    "\n",
    "| Model Type      | Cost Function Score |\n",
    "| ----------------| --------------------|\n",
    "| General         | 1.43e+05            |\n",
    "| Single Family   | 2.26e+05            |\n",
    "| Townhome        | 1.14e+03            |\n",
    "| Apartments      | 1.85e+04            |"
   ]
  },
  {
   "cell_type": "code",
   "execution_count": null,
   "id": "45bf5b84",
   "metadata": {},
   "outputs": [],
   "source": []
  }
 ],
 "metadata": {
  "kernelspec": {
   "display_name": "Python 3",
   "language": "python",
   "name": "python3"
  },
  "language_info": {
   "codemirror_mode": {
    "name": "ipython",
    "version": 3
   },
   "file_extension": ".py",
   "mimetype": "text/x-python",
   "name": "python",
   "nbconvert_exporter": "python",
   "pygments_lexer": "ipython3",
   "version": "3.8.8"
  }
 },
 "nbformat": 4,
 "nbformat_minor": 5
}
