{
 "cells": [
  {
   "cell_type": "markdown",
   "id": "a722243c",
   "metadata": {},
   "source": [
    "# Kaggle\n",
    "## House Prices - Advanced Regression Techniques\n",
    "https://www.kaggle.com/competitions/house-prices-advanced-regression-techniques/data?select=data_description.txt"
   ]
  },
  {
   "cell_type": "code",
   "execution_count": null,
   "id": "e0254764",
   "metadata": {},
   "outputs": [],
   "source": [
    "import pandas as "
   ]
  }
 ],
 "metadata": {
  "kernelspec": {
   "display_name": "Python 3 (ipykernel)",
   "language": "python",
   "name": "python3"
  },
  "language_info": {
   "codemirror_mode": {
    "name": "ipython",
    "version": 3
   },
   "file_extension": ".py",
   "mimetype": "text/x-python",
   "name": "python",
   "nbconvert_exporter": "python",
   "pygments_lexer": "ipython3",
   "version": "3.8.13"
  }
 },
 "nbformat": 4,
 "nbformat_minor": 5
}
